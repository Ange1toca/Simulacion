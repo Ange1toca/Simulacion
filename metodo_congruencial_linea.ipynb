{
  "nbformat": 4,
  "nbformat_minor": 0,
  "metadata": {
    "colab": {
      "provenance": [],
      "authorship_tag": "ABX9TyOzlRhfMcQo0Ud6X3+L5i2+",
      "include_colab_link": true
    },
    "kernelspec": {
      "name": "python3",
      "display_name": "Python 3"
    },
    "language_info": {
      "name": "python"
    }
  },
  "cells": [
    {
      "cell_type": "markdown",
      "metadata": {
        "id": "view-in-github",
        "colab_type": "text"
      },
      "source": [
        "<a href=\"https://colab.research.google.com/github/Ange1toca/Simulacion/blob/main/metodo_congruencial_linea.ipynb\" target=\"_parent\"><img src=\"https://colab.research.google.com/assets/colab-badge.svg\" alt=\"Open In Colab\"/></a>"
      ]
    },
    {
      "cell_type": "code",
      "source": [
        "import numpy as np\n",
        "import scipy.stats as stats\n",
        "\n",
        "# 1. Generar 100 números aleatorios en el rango [0, 1]\n",
        "n = 100\n",
        "random_numbers = np.random.uniform(0, 1, n)\n",
        "\n",
        "# Mostrar los números aleatorios generados\n",
        "print(\"Números aleatorios generados:\")\n",
        "print(random_numbers)\n",
        "\n",
        "# 2. Dividir el rango [0, 1] en 10 intervalos ( se puede ajustar segun necesidades)\n",
        "intervalos = 10\n",
        "observed_counts, bin_edges = np.histogram(random_numbers, bins=intervalos)\n",
        "\n",
        "# 3. Número esperado en cada intervalo si la distribución es uniforme\n",
        "expected_count = n / intervalos  # Deberían caer el mismo número de números en cada intervalo\n",
        "\n",
        "# 4. Prueba de Chi-Cuadrado\n",
        "chi2_statistic, p_value = stats.chisquare(observed_counts, [expected_count]*intervalos)\n",
        "\n",
        "# 5. Mostrar resultados\n",
        "print(\"\\nBins = Categorias:\", bin_edges)\n",
        "print(\"\\nFrecuencias observadas por intervalo:\", observed_counts)\n",
        "print(\"Frecuencia esperada por intervalo:\", expected_count)\n",
        "print(\"Chi-Cuadrado:\", chi2_statistic)\n",
        "print(\"Valor p:\", p_value)\n",
        "\n",
        "# Interpretación del resultado\n",
        "if p_value < 0.05:\n",
        "    print(\"\\nRechazamos la hipótesis nula: la distribución no es uniforme.\")\n",
        "else:\n",
        "    print(\"\\nNo podemos rechazar la hipótesis nula: la distribución parece uniforme.\")"
      ],
      "metadata": {
        "colab": {
          "base_uri": "https://localhost:8080/"
        },
        "id": "_f7KnaL8GJXw",
        "outputId": "65a2b517-9a92-4a2d-e461-8e58d1e89456"
      },
      "execution_count": null,
      "outputs": [
        {
          "output_type": "stream",
          "name": "stdout",
          "text": [
            "Números aleatorios generados:\n",
            "[0.43898786 0.08316357 0.4718243  0.09239303 0.69835275 0.55883823\n",
            " 0.34402497 0.96774045 0.93885941 0.54832466 0.64809454 0.28299184\n",
            " 0.98025427 0.50196671 0.90006753 0.92230682 0.10201858 0.02422466\n",
            " 0.14896739 0.7532187  0.97417021 0.93115758 0.99610426 0.21660645\n",
            " 0.38334444 0.20479474 0.50503779 0.09408935 0.07835886 0.49493937\n",
            " 0.19331345 0.89347711 0.67442172 0.43662556 0.73651926 0.0651969\n",
            " 0.93805296 0.85356406 0.57527178 0.00289183 0.42296731 0.78766462\n",
            " 0.51462924 0.73353871 0.34526745 0.66045152 0.43120202 0.49535629\n",
            " 0.00176102 0.70971547 0.25151886 0.67609671 0.29416693 0.18551409\n",
            " 0.84074007 0.5577678  0.55266768 0.82847371 0.44756452 0.64204878\n",
            " 0.47516697 0.56453831 0.17688293 0.73764026 0.86835791 0.70176417\n",
            " 0.54554065 0.38905453 0.74845672 0.93540424 0.48163099 0.87413006\n",
            " 0.4739099  0.73629315 0.73373639 0.00990233 0.03685678 0.19327707\n",
            " 0.3583837  0.12810624 0.00264562 0.29389809 0.66804101 0.39038923\n",
            " 0.41351169 0.03874711 0.32323932 0.86037823 0.51804312 0.12657883\n",
            " 0.88124558 0.54528411 0.23461264 0.36273008 0.57192368 0.25525681\n",
            " 0.57535283 0.62516472 0.23901934 0.3778605 ]\n",
            "\n",
            "Bins = Categorias: [0.00176102 0.10119535 0.20062967 0.30006399 0.39949832 0.49893264\n",
            " 0.59836697 0.69780129 0.79723561 0.89666994 0.99610426]\n",
            "\n",
            "Frecuencias observadas por intervalo: [12  8  9  9 12 14  7 11  8 10]\n",
            "Frecuencia esperada por intervalo: 10.0\n",
            "Chi-Cuadrado: 4.4\n",
            "Valor p: 0.8831713784241684\n",
            "\n",
            "No podemos rechazar la hipótesis nula: la distribución parece uniforme.\n"
          ]
        }
      ]
    },
    {
      "cell_type": "markdown",
      "source": [
        "# 100 numeros aleatorios por el metodo congruencial linea"
      ],
      "metadata": {
        "id": "sOWeIjIII-In"
      }
    },
    {
      "cell_type": "code",
      "source": [
        "def linear_congruential_generator(seed, a, c, m, n):\n",
        "    numbers = []\n",
        "    x = seed\n",
        "    for _ in range(n):\n",
        "        x = (a * x + c) % m\n",
        "        numbers.append(x)\n",
        "    return numbers\n",
        "\n",
        "# Parámetros del congruencial lineal (valores comunes)\n",
        "seed = 1234  # Semilla inicial\n",
        "a = 1664525  # Multiplicador\n",
        "c = 1013904223  # Incremento\n",
        "m = 2**32  # Módulo (32 bits)\n",
        "n = 100  # Cantidad de números a generar\n",
        "\n",
        "random_numbers_lcg = linear_congruential_generator(seed, a, c, m, n)\n",
        "print(\"LG Numbers:\", random_numbers_lcg)\n"
      ],
      "metadata": {
        "colab": {
          "base_uri": "https://localhost:8080/"
        },
        "id": "5_13CmOoGq5y",
        "outputId": "d156d0f2-e76e-4568-cf34-f9d5efc054ad"
      },
      "execution_count": null,
      "outputs": [
        {
          "output_type": "stream",
          "name": "stdout",
          "text": [
            "LG Numbers: [3067928073, 889114580, 3219257635, 1486326822, 3450746189, 1275680328, 1045497095, 742129338, 1126366929, 2032544252, 2981461291, 3417862286, 260259477, 1838513904, 3272213903, 2904503714, 3006609561, 295749924, 3594617395, 4003324406, 1400991965, 311344280, 2007701271, 3163638154, 3784747873, 1977044300, 2375428155, 786006110, 3486379045, 3851923264, 1916164511, 1903024754, 422475561, 2856736372, 1506250563, 1278274502, 2670841965, 2242311912, 2834427175, 1577355354, 566737905, 3808330908, 527292235, 2669528110, 1436171701, 277296016, 4209504687, 4271436610, 3700529593, 1982101444, 1982144595, 793618838, 613962749, 4250338616, 1214678839, 4158831402, 1889480833, 510709740, 151882331, 2585934846, 2413900613, 1191775200, 2608844223, 630030354, 124231753, 2377133332, 122369379, 3375438694, 2983066509, 3873695624, 1619649863, 2025382394, 424020241, 1329803068, 2760261995, 2026104782, 266063061, 2667722800, 2929651151, 2792915170, 1241090777, 4204688996, 2842349171, 2388148534, 4281059101, 349347288, 2686256983, 2790522058, 3575989665, 3049955980, 338230395, 1059047326, 2567113317, 999798912, 3139850719, 13039026, 2328910185, 132404148, 3371494275, 109058822]\n"
          ]
        }
      ]
    }
  ]
}