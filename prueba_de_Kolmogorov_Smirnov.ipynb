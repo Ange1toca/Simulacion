{
  "nbformat": 4,
  "nbformat_minor": 0,
  "metadata": {
    "colab": {
      "provenance": [],
      "authorship_tag": "ABX9TyMvRc53+QOza731HKMSfb6R",
      "include_colab_link": true
    },
    "kernelspec": {
      "name": "python3",
      "display_name": "Python 3"
    },
    "language_info": {
      "name": "python"
    }
  },
  "cells": [
    {
      "cell_type": "markdown",
      "metadata": {
        "id": "view-in-github",
        "colab_type": "text"
      },
      "source": [
        "<a href=\"https://colab.research.google.com/github/Ange1toca/Simulacion/blob/main/prueba_de_Kolmogorov_Smirnov.ipynb\" target=\"_parent\"><img src=\"https://colab.research.google.com/assets/colab-badge.svg\" alt=\"Open In Colab\"/></a>"
      ]
    },
    {
      "cell_type": "markdown",
      "source": [
        "# **Pruebas** **estadística** **de** **uniformidad** **de** **Kolmogorov**-**Smirnov**\n",
        "\n",
        "Realizar un programa en Python que realice 100 números aleatorios y realice la prueba de uniformidad de Kolmogorov-Smirnov"
      ],
      "metadata": {
        "id": "FAF7XTOrewpS"
      }
    },
    {
      "cell_type": "code",
      "execution_count": 3,
      "metadata": {
        "colab": {
          "base_uri": "https://localhost:8080/"
        },
        "id": "qOCw6mn8d4lt",
        "outputId": "958e790b-3b81-4d2c-9139-4ec435262183"
      },
      "outputs": [
        {
          "output_type": "stream",
          "name": "stdout",
          "text": [
            "Números aleatorios generados:\n",
            "[0.67508112 0.60870274 0.99804536 0.85035769 0.4229168  0.17804202\n",
            " 0.65654111 0.21513134 0.41221462 0.48331072 0.81437516 0.62937442\n",
            " 0.51989885 0.39339337 0.24906655 0.0759479  0.83581372 0.41592511\n",
            " 0.32205005 0.44176528 0.16241043 0.95390308 0.30501505 0.56193376\n",
            " 0.17981695 0.51014939 0.60649632 0.1270272  0.99038533 0.47591306\n",
            " 0.05128182 0.32532495 0.62046752 0.73836966 0.32541408 0.18675732\n",
            " 0.37989336 0.43664084 0.23186304 0.51815858 0.89200534 0.02863997\n",
            " 0.13073875 0.11614688 0.38699222 0.09045811 0.07020503 0.59303006\n",
            " 0.36842028 0.40222603 0.95572905 0.16023272 0.5070146  0.97586633\n",
            " 0.5829868  0.33477415 0.40818503 0.19248103 0.2984711  0.57749359\n",
            " 0.28588079 0.5615399  0.23453309 0.82633212 0.0269483  0.45764675\n",
            " 0.50436224 0.14184234 0.72029182 0.21760685 0.52649732 0.69629671\n",
            " 0.87280833 0.19762695 0.00583625 0.2743423  0.24092731 0.2242696\n",
            " 0.1400866  0.14041536 0.42470391 0.5727831  0.43478867 0.20141591\n",
            " 0.73398585 0.11870311 0.64653574 0.65020963 0.23167271 0.46658178\n",
            " 0.10911094 0.55308534 0.71853128 0.4606229  0.64688288 0.98723002\n",
            " 0.16877525 0.14253031 0.07801407 0.94520393]\n",
            "Estadístico K-S: 0.15345889314239836\n",
            "Valor p: 0.01601735075461815\n",
            "Resultado: Se rechaza la hipótesis de uniformidad\n"
          ]
        }
      ],
      "source": [
        "import numpy as np\n",
        "from scipy.stats import kstest\n",
        "\n",
        "# Generar 100 números aleatorios entre 0 y 1\n",
        "random_numbers = np.random.rand(100)\n",
        "\n",
        "# Imprimir los 100 números generados\n",
        "print(\"Números aleatorios generados:\")\n",
        "print(random_numbers)\n",
        "\n",
        "# Realizar la prueba de Kolmogorov-Smirnov para la distribución uniforme\n",
        "ks_statistic, p_value = kstest(random_numbers, 'uniform')\n",
        "\n",
        "# Imprimir resultados\n",
        "print(f'Estadístico K-S: {ks_statistic}')\n",
        "print(f'Valor p: {p_value}')\n",
        "\n",
        "# Evaluar el resultado\n",
        "alpha = 0.05  # Nivel de significancia\n",
        "test_result = \"No se rechaza la hipótesis de uniformidad\" if p_value > alpha else \"Se rechaza la hipótesis de uniformidad\"\n",
        "print(f'Resultado: {test_result}')\n",
        "\n"
      ]
    }
  ]
}